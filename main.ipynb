{
 "cells": [
  {
   "attachments": {},
   "cell_type": "markdown",
   "metadata": {},
   "source": [
    "## Names"
   ]
  },
  {
   "attachments": {},
   "cell_type": "markdown",
   "metadata": {},
   "source": [
    "- Coin Gecko API call (already done)\n",
    "- Select the top 1000 for marketcap"
   ]
  },
  {
   "cell_type": "code",
   "execution_count": 286,
   "metadata": {},
   "outputs": [],
   "source": [
    "# Gets the ids and symbols for each coin listed on coingecko\n",
    "import requests\n",
    "import json\n",
    "response = requests.get(\"https://api.coingecko.com/api/v3/coins/list\")\n",
    "if response.status_code == 200:\n",
    "    data = response.json()\n",
    "else:\n",
    "    print(\"Request was not a success\")\n",
    "import pandas as pd\n",
    "df = pd.DataFrame(data, columns=data[0].keys())"
   ]
  },
  {
   "cell_type": "code",
   "execution_count": 287,
   "metadata": {},
   "outputs": [],
   "source": [
    "df.to_csv('./NamesFromCoinGecko.csv',index = False)"
   ]
  },
  {
   "attachments": {},
   "cell_type": "markdown",
   "metadata": {},
   "source": [
    "### Experimenting with locating elements in a Pandas Dataframe"
   ]
  },
  {
   "cell_type": "code",
   "execution_count": 185,
   "metadata": {},
   "outputs": [
    {
     "name": "stdout",
     "output_type": "stream",
     "text": [
      "535 µs ± 61.4 µs per loop (mean ± std. dev. of 7 runs, 1,000 loops each)\n"
     ]
    }
   ],
   "source": [
    "%timeit df.loc[0,['id']]"
   ]
  },
  {
   "cell_type": "code",
   "execution_count": 44,
   "metadata": {},
   "outputs": [
    {
     "name": "stdout",
     "output_type": "stream",
     "text": [
      "4.81 µs ± 373 ns per loop (mean ± std. dev. of 7 runs, 100,000 loops each)\n"
     ]
    }
   ],
   "source": [
    "%timeit df['id'][0]"
   ]
  },
  {
   "cell_type": "code",
   "execution_count": 262,
   "metadata": {},
   "outputs": [
    {
     "data": {
      "text/html": [
       "<div>\n",
       "<style scoped>\n",
       "    .dataframe tbody tr th:only-of-type {\n",
       "        vertical-align: middle;\n",
       "    }\n",
       "\n",
       "    .dataframe tbody tr th {\n",
       "        vertical-align: top;\n",
       "    }\n",
       "\n",
       "    .dataframe thead th {\n",
       "        text-align: right;\n",
       "    }\n",
       "</style>\n",
       "<table border=\"1\" class=\"dataframe\">\n",
       "  <thead>\n",
       "    <tr style=\"text-align: right;\">\n",
       "      <th></th>\n",
       "      <th>id</th>\n",
       "      <th>symbol</th>\n",
       "      <th>name</th>\n",
       "    </tr>\n",
       "  </thead>\n",
       "  <tbody>\n",
       "    <tr>\n",
       "      <th>0</th>\n",
       "      <td>01coin</td>\n",
       "      <td>zoc</td>\n",
       "      <td>01coin</td>\n",
       "    </tr>\n",
       "    <tr>\n",
       "      <th>1</th>\n",
       "      <td>0chain</td>\n",
       "      <td>zcn</td>\n",
       "      <td>Zus</td>\n",
       "    </tr>\n",
       "    <tr>\n",
       "      <th>2</th>\n",
       "      <td>0vix-protocol</td>\n",
       "      <td>vix</td>\n",
       "      <td>0VIX Protocol</td>\n",
       "    </tr>\n",
       "    <tr>\n",
       "      <th>3</th>\n",
       "      <td>0x</td>\n",
       "      <td>zrx</td>\n",
       "      <td>0x Protocol</td>\n",
       "    </tr>\n",
       "  </tbody>\n",
       "</table>\n",
       "</div>"
      ],
      "text/plain": [
       "              id symbol           name\n",
       "0         01coin    zoc         01coin\n",
       "1         0chain    zcn            Zus\n",
       "2  0vix-protocol    vix  0VIX Protocol\n",
       "3             0x    zrx    0x Protocol"
      ]
     },
     "execution_count": 262,
     "metadata": {},
     "output_type": "execute_result"
    }
   ],
   "source": [
    "df.loc[:3,:]"
   ]
  },
  {
   "attachments": {},
   "cell_type": "markdown",
   "metadata": {},
   "source": [
    "We can conclude that accessing columns of the dataframe has its advantages interms of speed. However using .loc to access specific rows with numeric indexing with specific column names, adds additional funcitonality. We can accomplish the same using series however we would need to access the columns of the entire dataframe which is expensive."
   ]
  },
  {
   "attachments": {},
   "cell_type": "markdown",
   "metadata": {},
   "source": [
    "## Get Market Cap by using the Gecko API"
   ]
  },
  {
   "attachments": {},
   "cell_type": "markdown",
   "metadata": {},
   "source": [
    "Split the ids of the coin into batches since there is a batch limit when using the Gecko API"
   ]
  },
  {
   "cell_type": "code",
   "execution_count": 296,
   "metadata": {},
   "outputs": [],
   "source": [
    "import numpy as np\n",
    "batches = [','.join(df.id[e:np.min([e+100,len(df.id)])]) for e in range(0,len(df.id) - len(df.id)%100+100,100)]"
   ]
  },
  {
   "attachments": {},
   "cell_type": "markdown",
   "metadata": {},
   "source": [
    "Note that the API returns data in an unstructured way. So cannot iterate incrementally through both the current and received list of ids. We need to manually match these.\n",
    "\n",
    "Update:\n",
    "I realised we could have created a dataframe from the response and then merged the final dataframes by column 'symbol'."
   ]
  },
  {
   "attachments": {},
   "cell_type": "markdown",
   "metadata": {},
   "source": [
    "Need to run this on a while loop and use raspberry pi. This will take approximately 1 day to collect the required data"
   ]
  },
  {
   "cell_type": "code",
   "execution_count": 298,
   "metadata": {},
   "outputs": [
    {
     "name": "stdout",
     "output_type": "stream",
     "text": [
      "Connection unsuccessful on batch:  3\n"
     ]
    }
   ],
   "source": [
    "from urllib.parse import quote\n",
    "ids_ = quote(batches[0]) #Converts string to normal url code i.e. , replace by %C\n",
    "\n",
    "cross_reference_check_Name = df.name\n",
    "\n",
    "#Uncomment these lines if running for the first time\n",
    "# new_df_rows = [] # Stores culmination of rows of each api call\n",
    "# k=0  #k is used to index the reference df.\n",
    "\n",
    "#Introduce batch numbers since the free api limits requests of 10-30 per 30 minutes depending on traffic.\n",
    "#Get around is to activate vpn in a different country every time the rate limit has been exceeded.\n",
    "batch_num =0\n",
    "for batch in batches:\n",
    "    if batch_num<3:\n",
    "        batch_num +=1\n",
    "        continue\n",
    "\n",
    "    #The response outputs a list of dictionaries\n",
    "    response = requests.get(\"https://api.coingecko.com/api/v3/coins/markets?vs_currency=gbp&ids=\" + batch+\"&order=market_cap_desc&per_page=100&page=1&sparkline=false&locale=en\")\n",
    "    \n",
    "    if response.status_code == 200:\n",
    "        print(\"Conncetion successful\")\n",
    "        data = response.json()\n",
    "        for i in range(0,100):\n",
    "            if k+i > len(cross_reference_check_Name): # Check if we have found all the required ids\n",
    "                break\n",
    "\n",
    "            #Find dictionary in the response which corresponds with the intial dataset\n",
    "            dictionary = next((item for item in data if item['name'] ==cross_reference_check_Name[k+i]),None)\n",
    "            if dictionary == None:\n",
    "                continue\n",
    "\n",
    "            #Construct the dataframe by creating a list of rows and adding to this global list\n",
    "            desired_categories = ['name','market_cap','market_cap_rank','total_supply','max_supply','circulating_supply','image','ath_date','atl_date']\n",
    "            row = [dictionary.get(key) for key in desired_categories]\n",
    "            new_df_rows.append(row)\n",
    "        \n",
    "        #Update indexing\n",
    "        k+=100\n",
    "        batch_num+=1\n",
    "    else:\n",
    "        print(\"Connection unsuccessful on batch: \",batch_num)\n",
    "        break"
   ]
  },
  {
   "attachments": {},
   "cell_type": "markdown",
   "metadata": {},
   "source": [
    "### Create a dataframe where we have the market caps and names symbols etc."
   ]
  },
  {
   "cell_type": "code",
   "execution_count": 300,
   "metadata": {},
   "outputs": [],
   "source": [
    "merged_dataframe = pd.merge(df,pd.DataFrame(new_df_rows,columns = desired_categories), on = 'name', how = 'inner')"
   ]
  },
  {
   "attachments": {},
   "cell_type": "markdown",
   "metadata": {},
   "source": [
    "Checking that there are no duplicates.\n",
    "\n",
    "Concluded that there are duplicates so need to merge by a different column. that is change to ```name```. (Completed)"
   ]
  },
  {
   "cell_type": "code",
   "execution_count": 301,
   "metadata": {},
   "outputs": [
    {
     "data": {
      "text/plain": [
       "300"
      ]
     },
     "execution_count": 301,
     "metadata": {},
     "output_type": "execute_result"
    }
   ],
   "source": [
    "len(pd.DataFrame(new_df_rows,columns = desired_categories))\n",
    "len(df)\n",
    "len(merged_dataframe.index.values)"
   ]
  },
  {
   "cell_type": "code",
   "execution_count": 302,
   "metadata": {},
   "outputs": [
    {
     "data": {
      "text/html": [
       "<div>\n",
       "<style scoped>\n",
       "    .dataframe tbody tr th:only-of-type {\n",
       "        vertical-align: middle;\n",
       "    }\n",
       "\n",
       "    .dataframe tbody tr th {\n",
       "        vertical-align: top;\n",
       "    }\n",
       "\n",
       "    .dataframe thead th {\n",
       "        text-align: right;\n",
       "    }\n",
       "</style>\n",
       "<table border=\"1\" class=\"dataframe\">\n",
       "  <thead>\n",
       "    <tr style=\"text-align: right;\">\n",
       "      <th></th>\n",
       "      <th>id</th>\n",
       "      <th>symbol</th>\n",
       "      <th>name</th>\n",
       "      <th>market_cap</th>\n",
       "      <th>market_cap_rank</th>\n",
       "      <th>total_supply</th>\n",
       "      <th>max_supply</th>\n",
       "      <th>circulating_supply</th>\n",
       "      <th>image</th>\n",
       "      <th>ath_date</th>\n",
       "      <th>atl_date</th>\n",
       "    </tr>\n",
       "  </thead>\n",
       "  <tbody>\n",
       "    <tr>\n",
       "      <th>0</th>\n",
       "      <td>01coin</td>\n",
       "      <td>zoc</td>\n",
       "      <td>01coin</td>\n",
       "      <td>0.0</td>\n",
       "      <td>NaN</td>\n",
       "      <td>6.565882e+07</td>\n",
       "      <td>NaN</td>\n",
       "      <td>0.000000e+00</td>\n",
       "      <td>https://assets.coingecko.com/coins/images/5720...</td>\n",
       "      <td>2018-10-10T17:27:38.034Z</td>\n",
       "      <td>2022-07-04T08:03:24.254Z</td>\n",
       "    </tr>\n",
       "    <tr>\n",
       "      <th>1</th>\n",
       "      <td>0chain</td>\n",
       "      <td>zcn</td>\n",
       "      <td>Zus</td>\n",
       "      <td>4600333.0</td>\n",
       "      <td>1176.0</td>\n",
       "      <td>4.000000e+08</td>\n",
       "      <td>NaN</td>\n",
       "      <td>4.840098e+07</td>\n",
       "      <td>https://assets.coingecko.com/coins/images/4934...</td>\n",
       "      <td>2021-11-10T12:21:06.184Z</td>\n",
       "      <td>2021-12-14T21:31:35.868Z</td>\n",
       "    </tr>\n",
       "    <tr>\n",
       "      <th>2</th>\n",
       "      <td>0vix-protocol</td>\n",
       "      <td>vix</td>\n",
       "      <td>0VIX Protocol</td>\n",
       "      <td>NaN</td>\n",
       "      <td>NaN</td>\n",
       "      <td>NaN</td>\n",
       "      <td>NaN</td>\n",
       "      <td>NaN</td>\n",
       "      <td>https://assets.coingecko.com/coins/images/2908...</td>\n",
       "      <td>None</td>\n",
       "      <td>None</td>\n",
       "    </tr>\n",
       "    <tr>\n",
       "      <th>3</th>\n",
       "      <td>0x</td>\n",
       "      <td>zrx</td>\n",
       "      <td>0x Protocol</td>\n",
       "      <td>150704941.0</td>\n",
       "      <td>182.0</td>\n",
       "      <td>1.000000e+09</td>\n",
       "      <td>1.000000e+09</td>\n",
       "      <td>8.474961e+08</td>\n",
       "      <td>https://assets.coingecko.com/coins/images/863/...</td>\n",
       "      <td>2018-07-28T14:41:06.104Z</td>\n",
       "      <td>2020-03-13T02:27:49.563Z</td>\n",
       "    </tr>\n",
       "    <tr>\n",
       "      <th>4</th>\n",
       "      <td>0x0-ai-ai-smart-contract</td>\n",
       "      <td>0x0</td>\n",
       "      <td>0x0.ai: AI Smart Contract</td>\n",
       "      <td>41777892.0</td>\n",
       "      <td>412.0</td>\n",
       "      <td>8.912500e+08</td>\n",
       "      <td>1.000000e+09</td>\n",
       "      <td>8.912500e+08</td>\n",
       "      <td>https://assets.coingecko.com/coins/images/2888...</td>\n",
       "      <td>2023-05-21T09:08:13.239Z</td>\n",
       "      <td>2023-02-01T14:29:44.928Z</td>\n",
       "    </tr>\n",
       "    <tr>\n",
       "      <th>...</th>\n",
       "      <td>...</td>\n",
       "      <td>...</td>\n",
       "      <td>...</td>\n",
       "      <td>...</td>\n",
       "      <td>...</td>\n",
       "      <td>...</td>\n",
       "      <td>...</td>\n",
       "      <td>...</td>\n",
       "      <td>...</td>\n",
       "      <td>...</td>\n",
       "      <td>...</td>\n",
       "    </tr>\n",
       "    <tr>\n",
       "      <th>295</th>\n",
       "      <td>aitravis</td>\n",
       "      <td>tai</td>\n",
       "      <td>AITravis</td>\n",
       "      <td>0.0</td>\n",
       "      <td>NaN</td>\n",
       "      <td>1.000000e+09</td>\n",
       "      <td>1.000000e+09</td>\n",
       "      <td>0.000000e+00</td>\n",
       "      <td>https://assets.coingecko.com/coins/images/2893...</td>\n",
       "      <td>2023-02-04T10:15:08.003Z</td>\n",
       "      <td>2023-03-09T21:05:57.537Z</td>\n",
       "    </tr>\n",
       "    <tr>\n",
       "      <th>296</th>\n",
       "      <td>aiwallet</td>\n",
       "      <td>aiwallet</td>\n",
       "      <td>AiWallet</td>\n",
       "      <td>0.0</td>\n",
       "      <td>NaN</td>\n",
       "      <td>1.000000e+09</td>\n",
       "      <td>1.000000e+09</td>\n",
       "      <td>0.000000e+00</td>\n",
       "      <td>https://assets.coingecko.com/coins/images/2911...</td>\n",
       "      <td>2023-02-21T02:34:09.189Z</td>\n",
       "      <td>2023-05-12T08:41:49.345Z</td>\n",
       "    </tr>\n",
       "    <tr>\n",
       "      <th>297</th>\n",
       "      <td>aiwork</td>\n",
       "      <td>awo</td>\n",
       "      <td>AiWork</td>\n",
       "      <td>0.0</td>\n",
       "      <td>NaN</td>\n",
       "      <td>1.000000e+10</td>\n",
       "      <td>NaN</td>\n",
       "      <td>0.000000e+00</td>\n",
       "      <td>https://assets.coingecko.com/coins/images/1537...</td>\n",
       "      <td>2022-04-15T15:14:29.912Z</td>\n",
       "      <td>2023-05-13T19:21:31.586Z</td>\n",
       "    </tr>\n",
       "    <tr>\n",
       "      <th>298</th>\n",
       "      <td>ajna-protocol</td>\n",
       "      <td>ajna</td>\n",
       "      <td>Ajna Protocol</td>\n",
       "      <td>NaN</td>\n",
       "      <td>NaN</td>\n",
       "      <td>1.000000e+09</td>\n",
       "      <td>1.000000e+09</td>\n",
       "      <td>NaN</td>\n",
       "      <td>https://assets.coingecko.com/coins/images/3018...</td>\n",
       "      <td>None</td>\n",
       "      <td>None</td>\n",
       "    </tr>\n",
       "    <tr>\n",
       "      <th>299</th>\n",
       "      <td>ajuna-network</td>\n",
       "      <td>baju</td>\n",
       "      <td>Ajuna Network</td>\n",
       "      <td>0.0</td>\n",
       "      <td>NaN</td>\n",
       "      <td>NaN</td>\n",
       "      <td>NaN</td>\n",
       "      <td>0.000000e+00</td>\n",
       "      <td>https://assets.coingecko.com/coins/images/2855...</td>\n",
       "      <td>2023-02-12T01:12:24.115Z</td>\n",
       "      <td>2023-05-09T05:49:45.267Z</td>\n",
       "    </tr>\n",
       "  </tbody>\n",
       "</table>\n",
       "<p>300 rows × 11 columns</p>\n",
       "</div>"
      ],
      "text/plain": [
       "                           id    symbol                       name   \n",
       "0                      01coin       zoc                     01coin  \\\n",
       "1                      0chain       zcn                        Zus   \n",
       "2               0vix-protocol       vix              0VIX Protocol   \n",
       "3                          0x       zrx                0x Protocol   \n",
       "4    0x0-ai-ai-smart-contract       0x0  0x0.ai: AI Smart Contract   \n",
       "..                        ...       ...                        ...   \n",
       "295                  aitravis       tai                   AITravis   \n",
       "296                  aiwallet  aiwallet                   AiWallet   \n",
       "297                    aiwork       awo                     AiWork   \n",
       "298             ajna-protocol      ajna              Ajna Protocol   \n",
       "299             ajuna-network      baju              Ajuna Network   \n",
       "\n",
       "      market_cap  market_cap_rank  total_supply    max_supply   \n",
       "0            0.0              NaN  6.565882e+07           NaN  \\\n",
       "1      4600333.0           1176.0  4.000000e+08           NaN   \n",
       "2            NaN              NaN           NaN           NaN   \n",
       "3    150704941.0            182.0  1.000000e+09  1.000000e+09   \n",
       "4     41777892.0            412.0  8.912500e+08  1.000000e+09   \n",
       "..           ...              ...           ...           ...   \n",
       "295          0.0              NaN  1.000000e+09  1.000000e+09   \n",
       "296          0.0              NaN  1.000000e+09  1.000000e+09   \n",
       "297          0.0              NaN  1.000000e+10           NaN   \n",
       "298          NaN              NaN  1.000000e+09  1.000000e+09   \n",
       "299          0.0              NaN           NaN           NaN   \n",
       "\n",
       "     circulating_supply                                              image   \n",
       "0          0.000000e+00  https://assets.coingecko.com/coins/images/5720...  \\\n",
       "1          4.840098e+07  https://assets.coingecko.com/coins/images/4934...   \n",
       "2                   NaN  https://assets.coingecko.com/coins/images/2908...   \n",
       "3          8.474961e+08  https://assets.coingecko.com/coins/images/863/...   \n",
       "4          8.912500e+08  https://assets.coingecko.com/coins/images/2888...   \n",
       "..                  ...                                                ...   \n",
       "295        0.000000e+00  https://assets.coingecko.com/coins/images/2893...   \n",
       "296        0.000000e+00  https://assets.coingecko.com/coins/images/2911...   \n",
       "297        0.000000e+00  https://assets.coingecko.com/coins/images/1537...   \n",
       "298                 NaN  https://assets.coingecko.com/coins/images/3018...   \n",
       "299        0.000000e+00  https://assets.coingecko.com/coins/images/2855...   \n",
       "\n",
       "                     ath_date                  atl_date  \n",
       "0    2018-10-10T17:27:38.034Z  2022-07-04T08:03:24.254Z  \n",
       "1    2021-11-10T12:21:06.184Z  2021-12-14T21:31:35.868Z  \n",
       "2                        None                      None  \n",
       "3    2018-07-28T14:41:06.104Z  2020-03-13T02:27:49.563Z  \n",
       "4    2023-05-21T09:08:13.239Z  2023-02-01T14:29:44.928Z  \n",
       "..                        ...                       ...  \n",
       "295  2023-02-04T10:15:08.003Z  2023-03-09T21:05:57.537Z  \n",
       "296  2023-02-21T02:34:09.189Z  2023-05-12T08:41:49.345Z  \n",
       "297  2022-04-15T15:14:29.912Z  2023-05-13T19:21:31.586Z  \n",
       "298                      None                      None  \n",
       "299  2023-02-12T01:12:24.115Z  2023-05-09T05:49:45.267Z  \n",
       "\n",
       "[300 rows x 11 columns]"
      ]
     },
     "execution_count": 302,
     "metadata": {},
     "output_type": "execute_result"
    }
   ],
   "source": [
    "merged_dataframe"
   ]
  },
  {
   "attachments": {},
   "cell_type": "markdown",
   "metadata": {},
   "source": [
    "There are duplicated symbols"
   ]
  },
  {
   "cell_type": "code",
   "execution_count": 304,
   "metadata": {},
   "outputs": [
    {
     "name": "stdout",
     "output_type": "stream",
     "text": [
      "                     id symbol                name\n",
      "28     1sol-io-wormhole   1sol  1sol.io (Wormhole)\n",
      "94          aave-bat-v1   abat         Aave BAT v1\n",
      "96         aave-busd-v1  abusd        Aave BUSD v1\n",
      "99          aave-dai-v1   adai         Aave DAI v1\n",
      "101         aave-enj-v1   aenj         Aave ENJ v1\n",
      "...                 ...    ...                 ...\n",
      "10194            zoodao    zoo              ZooDAO\n",
      "10195         zookeeper    zoo           ZooKeeper\n",
      "10200               zro    zro           Carb0n.fi\n",
      "10208              zusd   zusd                ZUSD\n",
      "10211           zynergy    zyn             Zynergy\n",
      "\n",
      "[1538 rows x 3 columns]\n"
     ]
    }
   ],
   "source": [
    "duplicate_rows = df[df['symbol'].duplicated()]\n",
    "print(duplicate_rows)"
   ]
  },
  {
   "cell_type": "code",
   "execution_count": 254,
   "metadata": {},
   "outputs": [
    {
     "data": {
      "text/plain": [
       "False"
      ]
     },
     "execution_count": 254,
     "metadata": {},
     "output_type": "execute_result"
    }
   ],
   "source": [
    "not df['symbol'].duplicated().any()"
   ]
  },
  {
   "cell_type": "code",
   "execution_count": 305,
   "metadata": {},
   "outputs": [
    {
     "data": {
      "text/plain": [
       "count    2.900000e+02\n",
       "mean     6.432161e+06\n",
       "std      4.880251e+07\n",
       "min      0.000000e+00\n",
       "25%      0.000000e+00\n",
       "50%      0.000000e+00\n",
       "75%      3.363350e+04\n",
       "max      7.584793e+08\n",
       "Name: market_cap, dtype: float64"
      ]
     },
     "execution_count": 305,
     "metadata": {},
     "output_type": "execute_result"
    }
   ],
   "source": [
    "merged_dataframe['market_cap'].describe()"
   ]
  },
  {
   "cell_type": "code",
   "execution_count": 306,
   "metadata": {},
   "outputs": [
    {
     "data": {
      "text/plain": [
       "(array([32.,  3.,  0.,  1.,  0.,  0.,  0.,  0.,  0.,  1.]),\n",
       " array([1.03530300e+06, 7.67797062e+07, 1.52524109e+08, 2.28268513e+08,\n",
       "        3.04012916e+08, 3.79757319e+08, 4.55501722e+08, 5.31246125e+08,\n",
       "        6.06990529e+08, 6.82734932e+08, 7.58479335e+08]),\n",
       " <BarContainer object of 10 artists>)"
      ]
     },
     "execution_count": 306,
     "metadata": {},
     "output_type": "execute_result"
    },
    {
     "data": {
      "image/png": "[encoded data removed]",
      "text/plain": [
       "<Figure size 640x480 with 1 Axes>"
      ]
     },
     "metadata": {},
     "output_type": "display_data"
    }
   ],
   "source": [
    "import matplotlib.pyplot as plt\n",
    "plt.hist(list(merged_dataframe[merged_dataframe['market_cap']>1e6]['market_cap']))"
   ]
  },
  {
   "cell_type": "code",
   "execution_count": 312,
   "metadata": {},
   "outputs": [],
   "source": [
    "MarketCap_threshold_lower_bound = 1e6\n",
    "df_ = merged_dataframe[merged_dataframe['market_cap']>MarketCap_threshold_lower_bound]\n",
    "df_.to_csv('./Coins.csv',index = False)\n"
   ]
  },
  {
   "attachments": {},
   "cell_type": "markdown",
   "metadata": {},
   "source": [
    "Need to draw conclusions from this plot"
   ]
  },
  {
   "attachments": {},
   "cell_type": "markdown",
   "metadata": {},
   "source": [
    "## Whitepapers and URL"
   ]
  },
  {
   "attachments": {},
   "cell_type": "markdown",
   "metadata": {},
   "source": [
    "Steps:\n",
    "\n",
    "1. Check if we can find the same coin on both coingecko and golden\n",
    "2. Get the links to the whitepapers and official websites from Golden\n",
    "3. Get the same from Coin Gecko\n",
    "4. Search google for the whitepaper by using the suffix 'filetype:pdf'\n",
    "5. Build a depth-1 webcrawler to scrape text off websites (used for gitbooks but can be used for any website)"
   ]
  },
  {
   "cell_type": "code",
   "execution_count": 315,
   "metadata": {},
   "outputs": [],
   "source": [
    "df = pd.read_csv('./Coins.csv')"
   ]
  },
  {
   "attachments": {},
   "cell_type": "markdown",
   "metadata": {},
   "source": [
    "1. Check if we can find the same coin on both coingecko and golden"
   ]
  },
  {
   "cell_type": "code",
   "execution_count": 50,
   "metadata": {},
   "outputs": [
    {
     "name": "stdout",
     "output_type": "stream",
     "text": [
      "The coingecko named coin is also in the golden database\n"
     ]
    }
   ],
   "source": [
    "from bs4 import BeautifulSoup\n",
    "import requests\n",
    "test_name = 'ACryptoS'\n",
    "\n",
    "url = 'https://golden.com/search/' +test_name \n",
    "\n",
    "response = requests.get(url)\n",
    "html_content = response.content\n",
    "\n",
    "soup = BeautifulSoup(html_content, 'html.parser')\n",
    "all_links = soup.find_all('a')\n",
    "\n",
    "#Scan for all hyperlinks\n",
    "hyperlinks = [link.get('href') for link in all_links]\n",
    "\n",
    "#If a hyper link contains the name then we can conclude that the coin name initially from coin gecko is in the Golden Database\n",
    "for link in hyperlinks:\n",
    "    contains = False\n",
    "    if 'wiki/'+test_name in link:\n",
    "        wiki_url = 'https://golden.com'+link + '/structured_data'\n",
    "        contains = True\n",
    "        print(\"The coingecko named coin is also in the golden database\")\n",
    "        break\n",
    "if contains == False:\n",
    "    print('Doesn\\'t have a correspondence with golden')\n"
   ]
  },
  {
   "attachments": {},
   "cell_type": "markdown",
   "metadata": {},
   "source": [
    "2. Get the links to the whitepapers and official website from Golden"
   ]
  },
  {
   "attachments": {},
   "cell_type": "markdown",
   "metadata": {},
   "source": [
    "- Use the above code to find the link to the wikipage in Golden.\n",
    "- Scan the golden wikipage to get the official website and the whitepaper."
   ]
  },
  {
   "cell_type": "code",
   "execution_count": 355,
   "metadata": {},
   "outputs": [
    {
     "name": "stdout",
     "output_type": "stream",
     "text": [
      "whiepaper_links: \n",
      " ['https://docs.acryptos.com/']\n",
      "website_links: \n",
      " ['https://acryptos.com', 'https://app-v2.acryptos.com', 'https://app.acryptos.com', 'https://medium.com/acryptos']\n"
     ]
    }
   ],
   "source": [
    "from bs4 import BeautifulSoup\n",
    "import requests\n",
    "\n",
    "# make a GET request to the webpage\n",
    "response = requests.get(wiki_url)\n",
    "\n",
    "\n",
    "# parse the content with BeautifulSoup\n",
    "soup = BeautifulSoup(response.text, 'html.parser')\n",
    "\n",
    "# find the unnested div containing the word 'Whitepaper'\n",
    "div_with_whitepaper = soup.find(lambda tag: tag.name == \"div\" and \"Whitepaper\" in tag.text and not tag.find('div'))\n",
    "if div_with_whitepaper == None:\n",
    "    print('No links to whitepaper')\n",
    "# find the next div\n",
    "next_div = div_with_whitepaper.find_next('div')\n",
    "\n",
    "# find all 'a' tags within this div\n",
    "a_tags = next_div.find_all('a')\n",
    "\n",
    "# get the links\n",
    "whitepaper_links = [a_tag.get('href') for a_tag in a_tags]\n",
    "\n",
    "# print the links\n",
    "print('whiepaper_links: \\n',whitepaper_links)\n",
    "\n",
    "# find the unnested div containing the word 'Whitepaper'\n",
    "div_with_off_website = soup.find(lambda tag: tag.name == \"div\" and \"Official Website\" in tag.text and not tag.find('div'))\n",
    "if div_with_off_website == None:\n",
    "    print('No official website tag')\n",
    "\n",
    "# find the next div\n",
    "next_div = div_with_off_website.find_next('div')\n",
    "\n",
    "# find all 'a' tags within this div\n",
    "a_tags = next_div.find_all('a')\n",
    "\n",
    "# get the links\n",
    "website_links = [a_tag.get('href') for a_tag in a_tags]\n",
    "\n",
    "# print the links\n",
    "print('website_links: \\n', website_links)"
   ]
  },
  {
   "attachments": {},
   "cell_type": "markdown",
   "metadata": {},
   "source": [
    "2. Get the links to the whitepapers and official website from CoinGecko"
   ]
  },
  {
   "attachments": {},
   "cell_type": "markdown",
   "metadata": {},
   "source": [
    "- Access page by the 'id' of the row.\n",
    "- Check if the div contains the links to whitepapers\n",
    "- Check if the div contains links to the official website"
   ]
  },
  {
   "attachments": {},
   "cell_type": "markdown",
   "metadata": {},
   "source": [
    "Updates:\n",
    "- I was getting errors when using Beautifull Soup, presumably as a result of coingecko having rate limits from Beautiful Soup when accessing website\n",
    "- Used Selenium instead (Takes longer and more computationally expensive) but may be able to bypass waiting time to refresh (Correct)"
   ]
  },
  {
   "cell_type": "code",
   "execution_count": 374,
   "metadata": {},
   "outputs": [],
   "source": [
    "from selenium import webdriver\n",
    "from selenium.webdriver.common.by import By\n",
    "\n",
    "# Set up the Selenium WebDriver\n",
    "driver = webdriver.Chrome() "
   ]
  },
  {
   "cell_type": "code",
   "execution_count": 397,
   "metadata": {},
   "outputs": [
    {
     "name": "stdout",
     "output_type": "stream",
     "text": [
      "Websites:  ['https://swaprum.finance/']\n",
      "Whitepapers:  ['https://swaprum-finance.gitbook.io/swaprum/']\n"
     ]
    }
   ],
   "source": [
    "driver.get('https://www.coingecko.com/en/coins/swaprum')\n",
    "div_with_website = driver.find_element(By.XPATH,\"//span[contains(text(), 'Website')]/ancestor::div[1]\")\n",
    "\n",
    "whitepaper_links = []\n",
    "website_links = []\n",
    "html_text = div_with_website.get_attribute('innerHTML')\n",
    "if 'Website' in div_with_website.text:\n",
    "    inner_div = div_with_website.find_element(By.TAG_NAME,'div')\n",
    "    a_tags = inner_div.find_elements(By.TAG_NAME,'a')\n",
    "    for tag in a_tags:\n",
    "        if 'Whitepaper' in tag.text:\n",
    "            whitepaper_links.append(tag.get_attribute(\"href\"))\n",
    "        else:\n",
    "            website_links.append(tag.get_attribute(\"href\"))\n",
    "    # Print the HTML text\n",
    "else:\n",
    "    print(\"Doesn't contain a link\")\n",
    "\n",
    "print(\"Websites: \", website_links)\n",
    "print(\"Whitepapers: \", whitepaper_links)\n",
    "    "
   ]
  },
  {
   "attachments": {},
   "cell_type": "markdown",
   "metadata": {},
   "source": [
    "4. Search google for the whitepaper by using the suffix 'filetype:pdf'"
   ]
  },
  {
   "cell_type": "code",
   "execution_count": 433,
   "metadata": {},
   "outputs": [
    {
     "name": "stdout",
     "output_type": "stream",
     "text": [
      "Downloaded binance-coin-whitepaper.pdf\n"
     ]
    }
   ],
   "source": [
    "test_name = 'binance'\n",
    "url ='https://www.google.co.uk/search?q='+test_name+'+whitepaper+filetype%3Apdf'\n",
    "\n",
    "response = requests.get(url)\n",
    "\n",
    "hyperlink_pdf = []\n",
    "if response.status_code == 200:\n",
    "    #Get the first search result that is a pdf and contains the name of the crypto in the hyperlink\n",
    "    html_content = response.content\n",
    "    soup = BeautifulSoup(html_content, 'html.parser')\n",
    "    all_links = soup.find_all('a')\n",
    "    for link in all_links:\n",
    "        if test_name in link.get(\"href\") and 'search' not in link.get(\"href\") and '.pdf' in link.get(\"href\"):\n",
    "            hyperlink_pdf.append('https://www.google.co.uk' +link.get(\"href\"))\n",
    "            break\n",
    "\n",
    "\n",
    "    file_name = hyperlink_pdf[0].split('/')[-1]  # Extract the file name from the URL\n",
    "    pdf_index = file_name.find(\".pdf\") + 4  # Find the index of \".pdf\" and add 4 to include the \".pdf\" itself\n",
    "    file_name = file_name[:pdf_index]\n",
    "    response = requests.get(hyperlink_pdf[0])\n",
    "\n",
    "    # Save the PDF file\n",
    "    with open(file_name, 'wb') as file:\n",
    "        file.write(response.content)\n",
    "        print(f\"Downloaded {file_name}\")\n",
    "else:\n",
    "    print(\"Connection unsuccessful\")"
   ]
  },
  {
   "attachments": {},
   "cell_type": "markdown",
   "metadata": {},
   "source": [
    "5. Build a depth-1 webcrawler to scrape text off websites (used for gitbooks but can be used for any website)"
   ]
  },
  {
   "attachments": {},
   "cell_type": "markdown",
   "metadata": {},
   "source": [
    "Use gitbook2pdf to get the text file from a website that is in the form of a gitbook. To use gitbook2pdf need to upgrade windows to 11. So need to use other laptop. Alternatively, use a webcrawler since this is generalised."
   ]
  },
  {
   "attachments": {},
   "cell_type": "markdown",
   "metadata": {},
   "source": [
    "Find all hyperlinks of hyperlinks (depth-1)"
   ]
  },
  {
   "cell_type": "code",
   "execution_count": 1,
   "metadata": {},
   "outputs": [
    {
     "name": "stdout",
     "output_type": "stream",
     "text": [
      "/crypto/\n",
      "newurl:  https://ir0nstone.gitbook.io/crypto/\n",
      "/crypto/\n",
      "newurl:  https://ir0nstone.gitbook.io/crypto/\n",
      "/crypto/\n",
      "newurl:  https://ir0nstone.gitbook.io/crypto/\n",
      "/crypto/fundamentals/divisibility-factors-and-euclids-algorithms\n",
      "newurl:  https://ir0nstone.gitbook.io/crypto/fundamentals/divisibility-factors-and-euclids-algorithms\n",
      "/crypto/fundamentals/modular-arithmetic\n",
      "newurl:  https://ir0nstone.gitbook.io/crypto/fundamentals/modular-arithmetic\n",
      "/crypto/fundamentals/rings-fields-and-eulers-totient-function\n",
      "newurl:  https://ir0nstone.gitbook.io/crypto/fundamentals/rings-fields-and-eulers-totient-function\n",
      "/crypto/further-maths/continued-fractions\n",
      "newurl:  https://ir0nstone.gitbook.io/crypto/further-maths/continued-fractions\n",
      "/crypto/rsa/overview\n",
      "newurl:  https://ir0nstone.gitbook.io/crypto/rsa/overview\n",
      "/crypto/rsa/public-exponent-attacks\n",
      "newurl:  https://ir0nstone.gitbook.io/crypto/rsa/public-exponent-attacks\n",
      "/crypto/rsa/choice-of-primes\n",
      "newurl:  https://ir0nstone.gitbook.io/crypto/rsa/choice-of-primes\n",
      "/crypto/rsa/factorisation-methods\n",
      "newurl:  https://ir0nstone.gitbook.io/crypto/rsa/factorisation-methods\n",
      "/crypto/dhke/overview\n",
      "newurl:  https://ir0nstone.gitbook.io/crypto/dhke/overview\n",
      "/crypto/dhke/solving-the-dlp\n",
      "newurl:  https://ir0nstone.gitbook.io/crypto/dhke/solving-the-dlp\n",
      "/crypto/fundamentals/divisibility-factors-and-euclids-algorithms\n",
      "newurl:  https://ir0nstone.gitbook.io/crypto/fundamentals/divisibility-factors-and-euclids-algorithms\n",
      "['/crypto/rsa/public-exponent-attacks/multi-party-rsa-with-small-e', '/crypto/rsa/public-exponent-attacks', '/crypto/dhke/solving-the-dlp', '/crypto/fundamentals/modular-arithmetic', '/crypto/rsa/public-exponent-attacks/e-1', '/crypto/further-maths/continued-fractions', '/crypto/fundamentals/modular-arithmetic#modular-multiplicative-inverses', '/crypto/fundamentals/rings-fields-and-eulers-totient-function#eulers-formula', '/crypto/rsa/public-exponent-attacks/small-e', '/crypto/rsa/factorisation-methods', '/crypto/rsa/choice-of-primes', '/crypto/fundamentals/divisibility-factors-and-euclids-algorithms', '/crypto/rsa/choice-of-primes/mersenne-primes', '/crypto/rsa/choice-of-primes/p-q', '/crypto/fundamentals/rings-fields-and-eulers-totient-function', '/crypto/dhke/solving-the-dlp/baby-step-giant-step', '/crypto/rsa/choice-of-primes/n-is-prime', '/crypto/rsa/overview', '/crypto/dhke/overview', '/crypto/', '/crypto/rsa/public-exponent-attacks/wieners-attack', '/crypto/rsa/choice-of-primes/fermat-factorisation', '/crypto/rsa/factorisation-methods/pollards-p-1']\n"
     ]
    }
   ],
   "source": [
    "import requests\n",
    "from bs4 import BeautifulSoup\n",
    "\n",
    "url = 'https://ir0nstone.gitbook.io/crypto'\n",
    "base_url = 'https://ir0nstone.gitbook.io'\n",
    "# Send a GET request to the URL\n",
    "response = requests.get(url)\n",
    "\n",
    "# Create a BeautifulSoup object to parse the HTML content\n",
    "soup = BeautifulSoup(response.content, 'html.parser')\n",
    "\n",
    "# Find all <a> tags (hyperlinks) within the HTML\n",
    "links = soup.find_all('a')\n",
    "\n",
    "# Extract and print the href attribute of each <a> tag\n",
    "paths = []\n",
    "for link in links:\n",
    "    href = link.get('href')\n",
    "    if 'https' in href:\n",
    "        continue\n",
    "    paths.append(href)\n",
    "\n",
    "    url = base_url + href\n",
    "    response = requests.get(url)\n",
    "    soup = BeautifulSoup(response.content,'html.parser')\n",
    "    links = soup.find_all('a')\n",
    "\n",
    "    for link in links:\n",
    "        href = link.get('href')\n",
    "        if href not in paths:\n",
    "            paths.append(href)\n",
    "\n",
    "#Refine supported paths\n",
    "paths = [elem for elem in paths if elem[0] == '/']\n",
    "paths = list(set(paths))\n",
    "for elem in paths:\n",
    "    print(elem)"
   ]
  },
  {
   "attachments": {},
   "cell_type": "markdown",
   "metadata": {},
   "source": [
    "Convert all hyperlinks contents to one text file. I need to generalise the code since I have to manually change the url/base url "
   ]
  },
  {
   "cell_type": "code",
   "execution_count": 35,
   "metadata": {},
   "outputs": [],
   "source": [
    "import requests\n",
    "from bs4 import BeautifulSoup\n",
    "\n",
    "base_url = 'https://ir0nstone.gitbook.io/'\n",
    "\n",
    "# Open the text file in write mode\n",
    "with open('website_content.txt', 'w',encoding = 'utf-8') as f:\n",
    "    # Loop through each URL path\n",
    "    for path in paths:\n",
    "        # Check if the path is a complete URL or a path on the base URL\n",
    "        if path.startswith('http'):\n",
    "            url = path\n",
    "        else:\n",
    "            url = base_url + path\n",
    "\n",
    "        # Send a request to the website\n",
    "        r = requests.get(url)\n",
    "\n",
    "        # Parse the HTML content of the website\n",
    "        soup = BeautifulSoup(r.text, 'html.parser')\n",
    "\n",
    "        # Extract the text from the parsed HTML\n",
    "        text = soup.get_text()\n",
    "\n",
    "        # Write the text to the file, followed by a newline\n",
    "        f.write(text + '\\n')\n",
    "\n"
   ]
  },
  {
   "attachments": {},
   "cell_type": "markdown",
   "metadata": {},
   "source": [
    "Make text file printable for a4, by wrapping lines onto the next line"
   ]
  },
  {
   "cell_type": "code",
   "execution_count": 36,
   "metadata": {},
   "outputs": [],
   "source": [
    "import textwrap\n",
    "\n",
    "# Open your file\n",
    "with open('website_content.txt', 'r',encoding = 'utf-8') as f:\n",
    "    lines = f.readlines()\n",
    "\n",
    "# Reformat the lines\n",
    "wrapped_lines = [textwrap.fill(line, width=60) for line in lines]\n",
    "\n",
    "# Write the lines back to the file\n",
    "with open('website_content.txt', 'w',encoding = 'utf-8') as f:\n",
    "    f.write('\\n'.join(wrapped_lines))"
   ]
  },
  {
   "attachments": {},
   "cell_type": "markdown",
   "metadata": {},
   "source": [
    "## Twitter\n"
   ]
  },
  {
   "attachments": {},
   "cell_type": "markdown",
   "metadata": {},
   "source": [
    "Need to do"
   ]
  },
  {
   "attachments": {},
   "cell_type": "markdown",
   "metadata": {},
   "source": [
    "### Side Tracked"
   ]
  },
  {
   "attachments": {},
   "cell_type": "markdown",
   "metadata": {},
   "source": [
    "Use Golden API?\n",
    "\n",
    "Compiling fragmented information from the web with modern NLP\n",
    "Golden uses sophisticated natural language processing techniques to extract canonical information on topics and entities from a wide range of public and private sources.\n",
    "\n",
    "We ingest data from numerous sources and mine our own knowledge graph in order to provide useful insights.\n",
    "\n",
    "https://docs.golden.com/reference/companyenrichment"
   ]
  },
  {
   "attachments": {},
   "cell_type": "markdown",
   "metadata": {},
   "source": [
    "- List of venues? use https://coinmap.org/api/v1/venues/ \n",
    "- Contains a list of 25 or so coins that are used to transact in"
   ]
  },
  {
   "attachments": {},
   "cell_type": "markdown",
   "metadata": {},
   "source": [
    "## Creation Date"
   ]
  },
  {
   "attachments": {},
   "cell_type": "markdown",
   "metadata": {},
   "source": [
    "- Get publishing date- i.e. creation date from pdf by metadata\n",
    "- Check WikiData\n",
    "- Scan first few rows of pdf for a date"
   ]
  },
  {
   "attachments": {},
   "cell_type": "markdown",
   "metadata": {},
   "source": [
    "## Version"
   ]
  },
  {
   "attachments": {},
   "cell_type": "markdown",
   "metadata": {},
   "source": [
    "Use MetaData?\n",
    "- Use wikidata"
   ]
  },
  {
   "attachments": {},
   "cell_type": "markdown",
   "metadata": {},
   "source": [
    "## Address - physical address"
   ]
  },
  {
   "attachments": {},
   "cell_type": "markdown",
   "metadata": {},
   "source": [
    "## Registered Number"
   ]
  },
  {
   "attachments": {},
   "cell_type": "markdown",
   "metadata": {},
   "source": [
    "## People(founders/authors)"
   ]
  },
  {
   "attachments": {},
   "cell_type": "markdown",
   "metadata": {},
   "source": [
    "- Cross Reference contents of text file against a list of names: https://www.back4app.com/database/back4app/list-of-names-dataset\n",
    "\n",
    "- Use Dandelion API for name extraction from the entire pdf. (1000 daily requests) \n",
    "- Wikidata: 'founded by/creator': https://www.wikidata.org/wiki/Q16783523\n",
    "\n",
    "- Twitter account (done)"
   ]
  },
  {
   "attachments": {},
   "cell_type": "markdown",
   "metadata": {},
   "source": [
    "Get Data from Wikidata link:\n",
    "\n",
    "1. Check if the wikidata link is on golden\n",
    "2. If it is, then can get download the data\n"
   ]
  },
  {
   "cell_type": "code",
   "execution_count": null,
   "metadata": {},
   "outputs": [],
   "source": [
    "import requests\n",
    "from bs4 import BeautifulSoup\n",
    "wiki_url = \"https://golden.com/wiki/Ethereum-W4Z/structured_data\"\n",
    "response = requests.get(wiki_url)\n",
    "\n",
    "soup = BeautifulSoup(response.text,'html.parser')\n",
    "\n",
    "links = soup.find_all('a')\n",
    "\n",
    "contains = False\n",
    "for link in links:\n",
    "    if 'wikidata' in link.get(\"href\"):\n",
    "        print(link.get(\"href\"))\n",
    "        contains = True\n",
    "if contains == False:\n",
    "    print('We do not have a wikilink')"
   ]
  },
  {
   "cell_type": "code",
   "execution_count": null,
   "metadata": {},
   "outputs": [
    {
     "name": "stdout",
     "output_type": "stream",
     "text": [
      "{\n",
      "    \"entities\": {\n",
      "        \"Q50361441\": {\n",
      "            \"pageid\": 51337934,\n",
      "            \"ns\": 0,\n",
      "            \"title\": \"Q50361441\",\n",
      "            \"lastrevid\": 1535685615,\n",
      "            \"modified\": \"2021-11-28T18:11:10Z\",\n",
      "            \"type\": \"item\",\n",
      "            \"id\": \"Q50361441\",\n",
      "            \"labels\": {\n",
      "                \"de\": {\n",
      "                    \"language\": \"de\",\n",
      "                    \"value\": \"Allogalumna confluentina\"\n",
      "                },\n",
      "                \"en\": {\n",
      "                    \"language\": \"en\",\n",
      "                    \"value\": \"Allogalumna confluentina\"\n",
      "                },\n",
      "                \"it\": {\n",
      "                    \"language\": \"it\",\n",
      "                    \"value\": \"Allogalumna confluentina\"\n",
      "                },\n",
      "                \"es\": {\n",
      "                    \"language\": \"es\",\n",
      "                    \"value\": \"Allogalumna confluentina\"\n",
      "                },\n",
      "                \"fr\": {\n",
      "                    \"language\": \"fr\",\n",
      "                    \"value\": \"Allogalumna confluentina\"\n",
      "                },\n",
      "                \"nl\": {\n",
      "                    \"language\": \"nl\",\n",
      "                    \"value\": \"Allogalumna confluentina\"\n",
      "                },\n",
      "                \"bg\": {\n",
      "                    \"language\": \"bg\",\n",
      "                    \"value\": \"Allogalumna confluentina\"\n",
      "                },\n",
      "                \"ru\": {\n",
      "                    \"language\": \"ru\",\n",
      "                    \"value\": \"Allogalumna confluentina\"\n",
      "                },\n",
      "                \"la\": {\n",
      "                    \"language\": \"la\",\n",
      "                    \"value\": \"Allogalumna confluentina\"\n",
      "                },\n",
      "                \"uk\": {\n",
      "                    \"language\": \"uk\",\n",
      "                    \"value\": \"Allogalumna confluentina\"\n",
      "                },\n",
      "                \"ast\": {\n",
      "                    \"language\": \"ast\",\n",
      "                    \"value\": \"\\u200eAllogalumna confluentina\\u200e\"\n",
      "                },\n",
      "                \"ro\": {\n",
      "                    \"language\": \"ro\",\n",
      "                    \"value\": \"Allogalumna confluentina\"\n",
      "                },\n",
      "                \"ga\": {\n",
      "                    \"language\": \"ga\",\n",
      "                    \"value\": \"Allogalumna confluentina\"\n",
      "                },\n",
      "                \"pt\": {\n",
      "                    \"language\": \"pt\",\n",
      "                    \"value\": \"Allogalumna confluentina\"\n",
      "                },\n",
      "                \"pl\": {\n",
      "                    \"language\": \"pl\",\n",
      "                    \"value\": \"Allogalumna confluentina\"\n",
      "                },\n",
      "                \"vi\": {\n",
      "                    \"language\": \"vi\",\n",
      "                    \"value\": \"Allogalumna confluentina\"\n",
      "                },\n",
      "                \"sq\": {\n",
      "                    \"language\": \"sq\",\n",
      "                    \"value\": \"Allogalumna confluentina\"\n",
      "                },\n",
      "                \"ceb\": {\n",
      "                    \"language\": \"ceb\",\n",
      "                    \"value\": \"Allogalumna confluentina\"\n",
      "                },\n",
      "                \"war\": {\n",
      "                    \"language\": \"war\",\n",
      "                    \"value\": \"Allogalumna confluentina\"\n",
      "                },\n",
      "                \"fi\": {\n",
      "                    \"language\": \"fi\",\n",
      "                    \"value\": \"Allogalumna confluentina\"\n",
      "                },\n",
      "                \"pt-br\": {\n",
      "                    \"language\": \"pt-br\",\n",
      "                    \"value\": \"Allogalumna confluentina\"\n",
      "                },\n",
      "                \"eu\": {\n",
      "                    \"language\": \"eu\",\n",
      "                    \"value\": \"Allogalumna confluentina\"\n",
      "                },\n",
      "                \"vo\": {\n",
      "                    \"language\": \"vo\",\n",
      "                    \"value\": \"Allogalumna confluentina\"\n",
      "                },\n",
      "                \"ext\": {\n",
      "                    \"language\": \"ext\",\n",
      "                    \"value\": \"Allogalumna confluentina\"\n",
      "                },\n",
      "                \"an\": {\n",
      "                    \"language\": \"an\",\n",
      "                    \"value\": \"Allogalumna confluentina\"\n",
      "                },\n",
      "                \"oc\": {\n",
      "                    \"language\": \"oc\",\n",
      "                    \"value\": \"Allogalumna confluentina\"\n",
      "                },\n",
      "                \"gl\": {\n",
      "                    \"language\": \"gl\",\n",
      "                    \"value\": \"Allogalumna confluentina\"\n",
      "                },\n",
      "                \"ia\": {\n",
      "                    \"language\": \"ia\",\n",
      "                    \"value\": \"Allogalumna confluentina\"\n",
      "                },\n",
      "                \"ca\": {\n",
      "                    \"language\": \"ca\",\n",
      "                    \"value\": \"Allogalumna confluentina\"\n",
      "                },\n",
      "                \"ie\": {\n",
      "                    \"language\": \"ie\",\n",
      "                    \"value\": \"Allogalumna confluentina\"\n",
      "                },\n",
      "                \"eo\": {\n",
      "                    \"language\": \"eo\",\n",
      "                    \"value\": \"Allogalumna confluentina\"\n",
      "                },\n",
      "                \"io\": {\n",
      "                    \"language\": \"io\",\n",
      "                    \"value\": \"Allogalumna confluentina\"\n",
      "                }\n",
      "            },\n",
      "            \"descriptions\": {\n",
      "                \"de\": {\n",
      "                    \"language\": \"de\",\n",
      "                    \"value\": \"Art der Gattung Allogalumna\"\n",
      "                },\n",
      "                \"nl\": {\n",
      "                    \"language\": \"nl\",\n",
      "                    \"value\": \"taxon\"\n",
      "                },\n",
      "                \"en\": {\n",
      "                    \"language\": \"en\",\n",
      "                    \"value\": \"species of arachnid\"\n",
      "                },\n",
      "                \"ast\": {\n",
      "                    \"language\": \"ast\",\n",
      "                    \"value\": \"especie d'ar\\u00e1cnidu\"\n",
      "                },\n",
      "                \"ro\": {\n",
      "                    \"language\": \"ro\",\n",
      "                    \"value\": \"specie de arahnide\"\n",
      "                },\n",
      "                \"uk\": {\n",
      "                    \"language\": \"uk\",\n",
      "                    \"value\": \"\\u0432\\u0438\\u0434 \\u043f\\u0430\\u0432\\u0443\\u043a\\u043e\\u043f\\u043e\\u0434\\u0456\\u0431\\u043d\\u0438\\u0445\"\n",
      "                },\n",
      "                \"ga\": {\n",
      "                    \"language\": \"ga\",\n",
      "                    \"value\": \"speiceas araicnid\\u00ed\"\n",
      "                },\n",
      "                \"bg\": {\n",
      "                    \"language\": \"bg\",\n",
      "                    \"value\": \"\\u0432\\u0438\\u0434 \\u043f\\u0430\\u044f\\u043a\\u043e\\u043e\\u0431\\u0440\\u0430\\u0437\\u043d\\u043e\"\n",
      "                },\n",
      "                \"ar\": {\n",
      "                    \"language\": \"ar\",\n",
      "                    \"value\": \"\\u0646\\u0648\\u0639 \\u0645\\u0646 \\u0627\\u0644\\u0639\\u0646\\u0643\\u0628\\u064a\\u0627\\u062a\"\n",
      "                }\n",
      "            },\n",
      "            \"aliases\": {},\n",
      "            \"claims\": {\n",
      "                \"P225\": [\n",
      "                    {\n",
      "                        \"mainsnak\": {\n",
      "                            \"snaktype\": \"value\",\n",
      "                            \"property\": \"P225\",\n",
      "                            \"hash\": \"096fab09801c79e259d9b25026157e4e7a65324b\",\n",
      "                            \"datavalue\": {\n",
      "                                \"value\": \"Allogalumna confluentina\",\n",
      "                                \"type\": \"string\"\n",
      "                            },\n",
      "                            \"datatype\": \"string\"\n",
      "                        },\n",
      "                        \"type\": \"statement\",\n",
      "                        \"id\": \"Q50361441$4D8295C6-1A2B-4746-8C0F-35E386038145\",\n",
      "                        \"rank\": \"normal\"\n",
      "                    }\n",
      "                ],\n",
      "                \"P105\": [\n",
      "                    {\n",
      "                        \"mainsnak\": {\n",
      "                            \"snaktype\": \"value\",\n",
      "                            \"property\": \"P105\",\n",
      "                            \"hash\": \"aebf3611b23ed90c7c0fc80f6cd1cb7be110ea59\",\n",
      "                            \"datavalue\": {\n",
      "                                \"value\": {\n",
      "                                    \"entity-type\": \"item\",\n",
      "                                    \"numeric-id\": 7432,\n",
      "                                    \"id\": \"Q7432\"\n",
      "                                },\n",
      "                                \"type\": \"wikibase-entityid\"\n",
      "                            },\n",
      "                            \"datatype\": \"wikibase-item\"\n",
      "                        },\n",
      "                        \"type\": \"statement\",\n",
      "                        \"id\": \"Q50361441$E39B4F2F-9D6D-415B-9B50-6C9C7A334F90\",\n",
      "                        \"rank\": \"normal\"\n",
      "                    }\n",
      "                ],\n",
      "                \"P171\": [\n",
      "                    {\n",
      "                        \"mainsnak\": {\n",
      "                            \"snaktype\": \"value\",\n",
      "                            \"property\": \"P171\",\n",
      "                            \"hash\": \"330c95eb61a8a4053ebfa751470ed7d61463e1d4\",\n",
      "                            \"datavalue\": {\n",
      "                                \"value\": {\n",
      "                                    \"entity-type\": \"item\",\n",
      "                                    \"numeric-id\": 4644064,\n",
      "                                    \"id\": \"Q4644064\"\n",
      "                                },\n",
      "                                \"type\": \"wikibase-entityid\"\n",
      "                            },\n",
      "                            \"datatype\": \"wikibase-item\"\n",
      "                        },\n",
      "                        \"type\": \"statement\",\n",
      "                        \"id\": \"Q50361441$14ED4EF3-3BB4-421B-B237-17E82AC0A3A6\",\n",
      "                        \"rank\": \"normal\"\n",
      "                    }\n",
      "                ],\n",
      "                \"P31\": [\n",
      "                    {\n",
      "                        \"mainsnak\": {\n",
      "                            \"snaktype\": \"value\",\n",
      "                            \"property\": \"P31\",\n",
      "                            \"hash\": \"06629d890d7ab0ff85c403d8aadf57ce9809c01f\",\n",
      "                            \"datavalue\": {\n",
      "                                \"value\": {\n",
      "                                    \"entity-type\": \"item\",\n",
      "                                    \"numeric-id\": 16521,\n",
      "                                    \"id\": \"Q16521\"\n",
      "                                },\n",
      "                                \"type\": \"wikibase-entityid\"\n",
      "                            },\n",
      "                            \"datatype\": \"wikibase-item\"\n",
      "                        },\n",
      "                        \"type\": \"statement\",\n",
      "                        \"id\": \"Q50361441$8568DD75-3064-465F-A246-648F0C89A639\",\n",
      "                        \"rank\": \"normal\"\n",
      "                    }\n",
      "                ],\n",
      "                \"P4807\": [\n",
      "                    {\n",
      "                        \"mainsnak\": {\n",
      "                            \"snaktype\": \"value\",\n",
      "                            \"property\": \"P4807\",\n",
      "                            \"hash\": \"aef75c5fc33f4b300111f7ab7834cde04db058cc\",\n",
      "                            \"datavalue\": {\n",
      "                                \"value\": \"f6a99b05-217a-46d9-9c93-fa19a1e2b5f1\",\n",
      "                                \"type\": \"string\"\n",
      "                            },\n",
      "                            \"datatype\": \"external-id\"\n",
      "                        },\n",
      "                        \"type\": \"statement\",\n",
      "                        \"id\": \"Q50361441$6E33B759-B4D4-4795-A083-684933EA42E4\",\n",
      "                        \"rank\": \"normal\",\n",
      "                        \"references\": [\n",
      "                            {\n",
      "                                \"hash\": \"833f89632a90f3f2d334b4cc9c9c767ddf6b5dc6\",\n",
      "                                \"snaks\": {\n",
      "                                    \"P248\": [\n",
      "                                        {\n",
      "                                            \"snaktype\": \"value\",\n",
      "                                            \"property\": \"P248\",\n",
      "                                            \"hash\": \"e931cd61f5af1408b26339cd2f77022f945a72c3\",\n",
      "                                            \"datavalue\": {\n",
      "                                                \"value\": {\n",
      "                                                    \"entity-type\": \"item\",\n",
      "                                                    \"numeric-id\": 2745977,\n",
      "                                                    \"id\": \"Q2745977\"\n",
      "                                                },\n",
      "                                                \"type\": \"wikibase-entityid\"\n",
      "                                            },\n",
      "                                            \"datatype\": \"wikibase-item\"\n",
      "                                        }\n",
      "                                    ],\n",
      "                                    \"P813\": [\n",
      "                                        {\n",
      "                                            \"snaktype\": \"value\",\n",
      "                                            \"property\": \"P813\",\n",
      "                                            \"hash\": \"e2e8caf425255c34f35b6843e4864d579b483689\",\n",
      "                                            \"datavalue\": {\n",
      "                                                \"value\": {\n",
      "                                                    \"time\": \"+2018-03-07T00:00:00Z\",\n",
      "                                                    \"timezone\": 0,\n",
      "                                                    \"before\": 0,\n",
      "                                                    \"after\": 0,\n",
      "                                                    \"precision\": 11,\n",
      "                                                    \"calendarmodel\": \"http://www.wikidata.org/entity/Q1985727\"\n",
      "                                                },\n",
      "                                                \"type\": \"time\"\n",
      "                                            },\n",
      "                                            \"datatype\": \"time\"\n",
      "                                        }\n",
      "                                    ]\n",
      "                                },\n",
      "                                \"snaks-order\": [\n",
      "                                    \"P248\",\n",
      "                                    \"P813\"\n",
      "                                ]\n",
      "                            }\n",
      "                        ]\n",
      "                    }\n",
      "                ],\n",
      "                \"P846\": [\n",
      "                    {\n",
      "                        \"mainsnak\": {\n",
      "                            \"snaktype\": \"value\",\n",
      "                            \"property\": \"P846\",\n",
      "                            \"hash\": \"2daf7612733ffd1f706dfafeae2c9ab7c85cea28\",\n",
      "                            \"datavalue\": {\n",
      "                                \"value\": \"4545163\",\n",
      "                                \"type\": \"string\"\n",
      "                            },\n",
      "                            \"datatype\": \"external-id\"\n",
      "                        },\n",
      "                        \"type\": \"statement\",\n",
      "                        \"id\": \"Q50361441$061F5208-94C8-483E-A549-A92B57310CC9\",\n",
      "                        \"rank\": \"normal\",\n",
      "                        \"references\": [\n",
      "                            {\n",
      "                                \"hash\": \"f2a3711f4e03b44d5a4ace453db278410e527e0c\",\n",
      "                                \"snaks\": {\n",
      "                                    \"P248\": [\n",
      "                                        {\n",
      "                                            \"snaktype\": \"value\",\n",
      "                                            \"property\": \"P248\",\n",
      "                                            \"hash\": \"dbb8dd1efbe0158a5227213bd628eeac27a1da65\",\n",
      "                                            \"datavalue\": {\n",
      "                                                \"value\": {\n",
      "                                                    \"entity-type\": \"item\",\n",
      "                                                    \"numeric-id\": 1531570,\n",
      "                                                    \"id\": \"Q1531570\"\n",
      "                                                },\n",
      "                                                \"type\": \"wikibase-entityid\"\n",
      "                                            },\n",
      "                                            \"datatype\": \"wikibase-item\"\n",
      "                                        }\n",
      "                                    ],\n",
      "                                    \"P813\": [\n",
      "                                        {\n",
      "                                            \"snaktype\": \"value\",\n",
      "                                            \"property\": \"P813\",\n",
      "                                            \"hash\": \"8791862be64e5cb61fa3c87206a5157e3ca83909\",\n",
      "                                            \"datavalue\": {\n",
      "                                                \"value\": {\n",
      "                                                    \"time\": \"+2018-04-02T00:00:00Z\",\n",
      "                                                    \"timezone\": 0,\n",
      "                                                    \"before\": 0,\n",
      "                                                    \"after\": 0,\n",
      "                                                    \"precision\": 11,\n",
      "                                                    \"calendarmodel\": \"http://www.wikidata.org/entity/Q1985727\"\n",
      "                                                },\n",
      "                                                \"type\": \"time\"\n",
      "                                            },\n",
      "                                            \"datatype\": \"time\"\n",
      "                                        }\n",
      "                                    ]\n",
      "                                },\n",
      "                                \"snaks-order\": [\n",
      "                                    \"P248\",\n",
      "                                    \"P813\"\n",
      "                                ]\n",
      "                            }\n",
      "                        ]\n",
      "                    }\n",
      "                ],\n",
      "                \"P6177\": [\n",
      "                    {\n",
      "                        \"mainsnak\": {\n",
      "                            \"snaktype\": \"value\",\n",
      "                            \"property\": \"P6177\",\n",
      "                            \"hash\": \"eb6d8cc0596aebb38da845594945c17806027ac3\",\n",
      "                            \"datavalue\": {\n",
      "                                \"value\": \"221416\",\n",
      "                                \"type\": \"string\"\n",
      "                            },\n",
      "                            \"datatype\": \"external-id\"\n",
      "                        },\n",
      "                        \"type\": \"statement\",\n",
      "                        \"id\": \"Q50361441$DBF452BE-CBF3-4AA2-B31C-E91F15B489EB\",\n",
      "                        \"rank\": \"normal\",\n",
      "                        \"references\": [\n",
      "                            {\n",
      "                                \"hash\": \"36009155afc2a1b354429c29c5dae5cc4f699edf\",\n",
      "                                \"snaks\": {\n",
      "                                    \"P248\": [\n",
      "                                        {\n",
      "                                            \"snaktype\": \"value\",\n",
      "                                            \"property\": \"P248\",\n",
      "                                            \"hash\": \"8711256edbd22d3b902abb666f143b5539ca1e55\",\n",
      "                                            \"datavalue\": {\n",
      "                                                \"value\": {\n",
      "                                                    \"entity-type\": \"item\",\n",
      "                                                    \"numeric-id\": 374924,\n",
      "                                                    \"id\": \"Q374924\"\n",
      "                                                },\n",
      "                                                \"type\": \"wikibase-entityid\"\n",
      "                                            },\n",
      "                                            \"datatype\": \"wikibase-item\"\n",
      "                                        }\n",
      "                                    ],\n",
      "                                    \"P813\": [\n",
      "                                        {\n",
      "                                            \"snaktype\": \"value\",\n",
      "                                            \"property\": \"P813\",\n",
      "                                            \"hash\": \"b367e29230cc4124a20b7c6fe41d21769c707b78\",\n",
      "                                            \"datavalue\": {\n",
      "                                                \"value\": {\n",
      "                                                    \"time\": \"+2021-02-23T00:00:00Z\",\n",
      "                                                    \"timezone\": 0,\n",
      "                                                    \"before\": 0,\n",
      "                                                    \"after\": 0,\n",
      "                                                    \"precision\": 11,\n",
      "                                                    \"calendarmodel\": \"http://www.wikidata.org/entity/Q1985727\"\n",
      "                                                },\n",
      "                                                \"type\": \"time\"\n",
      "                                            },\n",
      "                                            \"datatype\": \"time\"\n",
      "                                        }\n",
      "                                    ]\n",
      "                                },\n",
      "                                \"snaks-order\": [\n",
      "                                    \"P248\",\n",
      "                                    \"P813\"\n",
      "                                ]\n",
      "                            }\n",
      "                        ]\n",
      "                    }\n",
      "                ]\n",
      "            },\n",
      "            \"sitelinks\": {}\n",
      "        }\n",
      "    },\n",
      "    \"success\": 1\n",
      "}\n"
     ]
    }
   ],
   "source": [
    "import requests\n",
    "import json\n",
    "\n",
    "# Define the URL of the API endpoint\n",
    "url = \"https://www.wikidata.org/w/api.php\"\n",
    "\n",
    "# Define the parameters for the API request\n",
    "params = {\n",
    "    \"action\": \"wbgetentities\",\n",
    "    \"ids\": \"Q50361441\",  # Wikidata ID for Binance - But can use link from golden\n",
    "    \"format\": \"json\"\n",
    "}\n",
    "\n",
    "# Make the API request\n",
    "response = requests.get(url, params=params)\n",
    "\n",
    "# Convert the response to JSON\n",
    "data = response.json()\n",
    "\n",
    "# print(json.dumps(data, indent=4))\n"
   ]
  },
  {
   "attachments": {},
   "cell_type": "markdown",
   "metadata": {},
   "source": [
    "Cross Reference contents of pdf with a list of names in the database (size 250,000 names):\n",
    "\n",
    "1. Connect to the api\n",
    "2. Access PDF and cross check (need to do)"
   ]
  },
  {
   "cell_type": "code",
   "execution_count": 47,
   "metadata": {},
   "outputs": [
    {
     "name": "stdout",
     "output_type": "stream",
     "text": [
      "Johnny is a name\n"
     ]
    }
   ],
   "source": [
    "import json\n",
    "import SECRETS\n",
    "import urllib\n",
    "import requests\n",
    "name = \"johnny\".title()\n",
    "APP_ID = SECRETS.X_Parse_Application_Id\n",
    "API_KEY = SECRETS.X_Parse_REST_API_Key\n",
    "where = urllib.parse.quote_plus(\"\"\"\n",
    "{\n",
    "    \"Name\": \"%s\"\n",
    "}\n",
    "\"\"\" % name.title())\n",
    "url = 'https://parseapi.back4app.com/classes/Listofnames_Complete_List_Names?count=1&limit=0&where=%s' % where\n",
    "headers = {\n",
    "    'X-Parse-Application-Id': f'{APP_ID}', # This is your app's application id\n",
    "    'X-Parse-REST-API-Key': f'{API_KEY}' # This is your app's REST API key\n",
    "}\n",
    "data = json.loads(requests.get(url, headers=headers).content.decode('utf-8')) # Here you have the data that you need\n",
    "json_data = json.dumps(data, indent=2)\n",
    "\n",
    "#Investigate the 'count' key in our json response object\n",
    "for key,value in data.items():\n",
    "    if key == \"count\":\n",
    "        if value>0:\n",
    "            print(name, \"is a name\")\n",
    "        else:\n",
    "            print(name, \"is not a Name\")\n",
    "    else:\n",
    "        continue"
   ]
  },
  {
   "attachments": {},
   "cell_type": "markdown",
   "metadata": {},
   "source": [
    "## References"
   ]
  },
  {
   "attachments": {},
   "cell_type": "markdown",
   "metadata": {},
   "source": [
    "\n",
    "- Use CHAT GPT  (done) to locate references and use google scholar/Scholars to verify these. Cost is 0.008p per document\n",
    "- Search document for word references (done)"
   ]
  },
  {
   "attachments": {},
   "cell_type": "markdown",
   "metadata": {},
   "source": [
    "### Funders"
   ]
  },
  {
   "attachments": {},
   "cell_type": "markdown",
   "metadata": {},
   "source": [
    "- Golden api"
   ]
  },
  {
   "attachments": {},
   "cell_type": "markdown",
   "metadata": {},
   "source": [
    "## Patents"
   ]
  },
  {
   "attachments": {},
   "cell_type": "markdown",
   "metadata": {},
   "source": [
    "- https://patents.google.com/"
   ]
  }
 ],
 "metadata": {
  "kernelspec": {
   "display_name": ".venv",
   "language": "python",
   "name": "python3"
  },
  "language_info": {
   "codemirror_mode": {
    "name": "ipython",
    "version": 3
   },
   "file_extension": ".py",
   "mimetype": "text/x-python",
   "name": "python",
   "nbconvert_exporter": "python",
   "pygments_lexer": "ipython3",
   "version": "3.11.3"
  },
  "orig_nbformat": 4
 },
 "nbformat": 4,
 "nbformat_minor": 2
}
